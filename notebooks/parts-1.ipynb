{
 "cells": [
  {
   "cell_type": "markdown",
   "id": "6bed3833",
   "metadata": {},
   "source": [
    "# Code Removed from house price prediction"
   ]
  },
  {
   "cell_type": "code",
   "execution_count": null,
   "id": "7a4959d6",
   "metadata": {},
   "outputs": [],
   "source": [
    "# Set style\n",
    "sns.set_style(\"whitegrid\")\n",
    "\n",
    "# Plot distributions for key numerical features\n",
    "fig, axes = plt.subplots(2, 2, figsize=(12, 8))\n",
    "sns.histplot(df['SalePrice'], kde=True, ax=axes[0, 0])\n",
    "sns.boxplot(x=df['LotArea'], ax=axes[0, 1])\n",
    "sns.scatterplot(x='GrLivArea', y='SalePrice', data=df, ax=axes[1, 0])\n",
    "# sns.heatmap(df.corr()[['SalePrice']].sort_values('SalePrice'), annot=True, ax=axes[1, 1])\n",
    "plt.tight_layout()\n",
    "plt.show()\n"
   ]
  },
  {
   "cell_type": "code",
   "execution_count": null,
   "id": "f99503f0",
   "metadata": {},
   "outputs": [],
   "source": [
    "# sns.heatmap(df.isnull(), cbar=True, cmap='viridis')\n",
    "sns.heatmap(df.isnull(), cbar=False, cmap='viridis')\n",
    "\n",
    "# \n",
    "df.isnull().sum().sort_values(ascending=True).plot(kind='bar')\n",
    "\n",
    "sns.heatmap(df[['LotFrontage', 'LotArea', 'SalePrice']].corr(), annot=True)\n",
    "sns.heatmap(df[['LotFrontage', 'LotArea', 'SalePrice']].corr())\n",
    "#\n",
    "plt.figure(figsize=(10,6))\n",
    "sns.histplot(df['SalePrice'], kde=True, bins=400)\n",
    "plt.title(\"Distribution of Sale Price\")\n",
    "plt.xlabel(\"Sale Price\")\n",
    "plt.ylabel(\"Count\")\n",
    "plt.show()\n",
    "\n",
    "sns.boxplot(x=df['Id'])              # Detect outliers\n"
   ]
  },
  {
   "cell_type": "code",
   "execution_count": null,
   "id": "f4bbedaf",
   "metadata": {},
   "outputs": [],
   "source": [
    "plt.figure(figsize=(10,6))\n",
    "sns.histplot(df['SalePrice'], kde=False, bins=30)\n",
    "# sns.histplot(df['SalePrice'], kde=True, bins=30)\n",
    "plt.title(\"Distribution of Sale Price\")\n",
    "plt.xlabel(\"Sale Price\")\n",
    "plt.ylabel(\"Count\")\n",
    "plt.show()\n"
   ]
  },
  {
   "cell_type": "code",
   "execution_count": null,
   "id": "55775788",
   "metadata": {},
   "outputs": [],
   "source": [
    "fig, ax = plt.subplots()\n",
    "ax.plot([1,2,3,4], [4,8,12,16])\n",
    "ax.set_title(\"Linear Distribution\")\n",
    "ax.set_ylabel(\"output\")\n",
    "# ax.set_xlabel(\"input\")\n",
    "plt.xlabel(\"testing\")\n",
    "\n",
    "plt.show()"
   ]
  },
  {
   "cell_type": "code",
   "execution_count": null,
   "id": "4ad7606b",
   "metadata": {},
   "outputs": [],
   "source": [
    "#plot \n",
    "missing.plot(kind='bar', figsize=(6,6), color='skyblue')\n",
    "plt.title(\"Columns with mIssing value\")\n",
    "plt.ylabel(\"Count of missing value\")\n",
    "plt.tight_layout()\n",
    "plt.show()"
   ]
  }
 ],
 "metadata": {
  "kernelspec": {
   "display_name": ".venv",
   "language": "python",
   "name": "python3"
  },
  "language_info": {
   "name": "python",
   "version": "3.13.0"
  }
 },
 "nbformat": 4,
 "nbformat_minor": 5
}
