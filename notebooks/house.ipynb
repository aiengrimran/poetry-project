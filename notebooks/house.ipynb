{
 "cells": [
  {
   "cell_type": "markdown",
   "id": "a8e2cd82",
   "metadata": {},
   "source": [
    " # House price prediction with 3 popular algorithm\n",
    " - Random Forest\n",
    " - xgboost\n",
    " - xgboost"
   ]
  },
  {
   "cell_type": "markdown",
   "id": "6850f504",
   "metadata": {},
   "source": [
    "**1) Random Forest**"
   ]
  },
  {
   "cell_type": "markdown",
   "id": "6ed623cb",
   "metadata": {},
   "source": [
    "Load Libraries"
   ]
  },
  {
   "cell_type": "code",
   "execution_count": 104,
   "id": "7b13bc75",
   "metadata": {},
   "outputs": [],
   "source": [
    "import pandas as pd\n",
    "import numpy as np\n",
    "from sklearn.ensemble import RandomForestRegressor\n",
    "import category_encoders as ce\n",
    "from sklearn.preprocessing import OrdinalEncoder, OneHotEncoder, LabelEncoder\n",
    "from sklearn.model_selection import train_test_split\n",
    "from sklearn.metrics import accuracy_score\n",
    "import matplotlib.pyplot as plt\n",
    "import seaborn as sns\n",
    "\n"
   ]
  },
  {
   "cell_type": "code",
   "execution_count": 99,
   "id": "12936267",
   "metadata": {},
   "outputs": [],
   "source": [
    "df = pd.read_csv('../input/dataset/house/train.csv')"
   ]
  },
  {
   "cell_type": "code",
   "execution_count": 102,
   "id": "5b72af78",
   "metadata": {},
   "outputs": [],
   "source": [
    "y = df['SalePrice']\n",
    "X = df.drop('SalePrice', axis=1)"
   ]
  },
  {
   "cell_type": "code",
   "execution_count": 111,
   "id": "1e5d6b99",
   "metadata": {},
   "outputs": [],
   "source": [
    "X_train, X_test, y_train, y_test= train_test_split(X,y, test_size=0.2, random_state=42)"
   ]
  },
  {
   "cell_type": "code",
   "execution_count": null,
   "id": "5eebfe5b",
   "metadata": {},
   "outputs": [
    {
     "name": "stdout",
     "output_type": "stream",
     "text": [
      "        Id  MSSubClass MSZoning  LotFrontage  LotArea Street Alley LotShape  \\\n",
      "0        1          60       RL         65.0     8450   Pave   NaN      Reg   \n",
      "1        2          20       RL         80.0     9600   Pave   NaN      Reg   \n",
      "2        3          60       RL         68.0    11250   Pave   NaN      IR1   \n",
      "3        4          70       RL         60.0     9550   Pave   NaN      IR1   \n",
      "4        5          60       RL         84.0    14260   Pave   NaN      IR1   \n",
      "...    ...         ...      ...          ...      ...    ...   ...      ...   \n",
      "1455  1456          60       RL         62.0     7917   Pave   NaN      Reg   \n",
      "1456  1457          20       RL         85.0    13175   Pave   NaN      Reg   \n",
      "1457  1458          70       RL         66.0     9042   Pave   NaN      Reg   \n",
      "1458  1459          20       RL         68.0     9717   Pave   NaN      Reg   \n",
      "1459  1460          20       RL         75.0     9937   Pave   NaN      Reg   \n",
      "\n",
      "     LandContour Utilities  ... ScreenPorch PoolArea PoolQC  Fence  \\\n",
      "0            Lvl    AllPub  ...           0        0    NaN    NaN   \n",
      "1            Lvl    AllPub  ...           0        0    NaN    NaN   \n",
      "2            Lvl    AllPub  ...           0        0    NaN    NaN   \n",
      "3            Lvl    AllPub  ...           0        0    NaN    NaN   \n",
      "4            Lvl    AllPub  ...           0        0    NaN    NaN   \n",
      "...          ...       ...  ...         ...      ...    ...    ...   \n",
      "1455         Lvl    AllPub  ...           0        0    NaN    NaN   \n",
      "1456         Lvl    AllPub  ...           0        0    NaN  MnPrv   \n",
      "1457         Lvl    AllPub  ...           0        0    NaN  GdPrv   \n",
      "1458         Lvl    AllPub  ...           0        0    NaN    NaN   \n",
      "1459         Lvl    AllPub  ...           0        0    NaN    NaN   \n",
      "\n",
      "     MiscFeature MiscVal MoSold  YrSold  SaleType  SaleCondition  \n",
      "0            NaN       0      2    2008        WD         Normal  \n",
      "1            NaN       0      5    2007        WD         Normal  \n",
      "2            NaN       0      9    2008        WD         Normal  \n",
      "3            NaN       0      2    2006        WD        Abnorml  \n",
      "4            NaN       0     12    2008        WD         Normal  \n",
      "...          ...     ...    ...     ...       ...            ...  \n",
      "1455         NaN       0      8    2007        WD         Normal  \n",
      "1456         NaN       0      2    2010        WD         Normal  \n",
      "1457        Shed    2500      5    2010        WD         Normal  \n",
      "1458         NaN       0      4    2010        WD         Normal  \n",
      "1459         NaN       0      6    2008        WD         Normal  \n",
      "\n",
      "[1460 rows x 80 columns]\n"
     ]
    }
   ],
   "source": [
    "# print(x)"
   ]
  },
  {
   "cell_type": "code",
   "execution_count": null,
   "id": "f41446d4",
   "metadata": {},
   "outputs": [],
   "source": [
    "def drop_not_used_columns(df):\n",
    "    df.drop('Id', axis=1, inplace=True)\n",
    "    # df.drop('SalePrice', axis=1, inplace=True)\n",
    "    \n",
    "    return df\n",
    "    "
   ]
  },
  {
   "cell_type": "code",
   "execution_count": 29,
   "id": "00dc277f",
   "metadata": {},
   "outputs": [],
   "source": [
    "df = drop_not_used_columns(df)"
   ]
  },
  {
   "cell_type": "code",
   "execution_count": 30,
   "id": "448ef549",
   "metadata": {},
   "outputs": [],
   "source": [
    "def fill_na_enum_cols(df):\n",
    "    for col in df.columns:\n",
    "        if df[col].dtype == 'object' and df[col].isna().any():\n",
    "            df[col] = df[col].fillna(df[col].mode()[0])\n",
    "    return df"
   ]
  },
  {
   "cell_type": "code",
   "execution_count": 31,
   "id": "f1d0f4ae",
   "metadata": {},
   "outputs": [],
   "source": [
    "def fill_na_val_cols(df):\n",
    "    df[\"LotFrontage\"] = df[\"LotFrontage\"].fillna(df[\"LotFrontage\"].median())\n",
    "    df[\"MasVnrArea\"] = df[\"MasVnrArea\"].fillna(df[\"MasVnrArea\"].median())\n",
    "    df[\"GarageYrBlt\"] = df[\"GarageYrBlt\"].fillna(df[\"GarageYrBlt\"].median())\n",
    "    \n",
    "    return df\n"
   ]
  },
  {
   "cell_type": "code",
   "execution_count": 32,
   "id": "7f3b3711",
   "metadata": {},
   "outputs": [],
   "source": [
    "df = fill_na_val_cols(df)"
   ]
  },
  {
   "cell_type": "code",
   "execution_count": 33,
   "id": "2c7acaaa",
   "metadata": {},
   "outputs": [],
   "source": [
    "df = fill_na_enum_cols(df)"
   ]
  },
  {
   "cell_type": "code",
   "execution_count": 77,
   "id": "cd5eaf77",
   "metadata": {},
   "outputs": [],
   "source": [
    "# df.head()"
   ]
  },
  {
   "cell_type": "code",
   "execution_count": 215,
   "id": "991d97c4",
   "metadata": {},
   "outputs": [
    {
     "data": {
      "image/png": "[encoded data removed]",
      "text/plain": [
       "<Figure size 640x480 with 1 Axes>"
      ]
     },
     "metadata": {},
     "output_type": "display_data"
    }
   ],
   "source": [
    "sns.histplot(df['GarageYrBlt'], bins=30, kde=True)\n",
    "plt.title(\"Distribution of GarageYrBlt\")\n",
    "plt.show()"
   ]
  },
  {
   "cell_type": "code",
   "execution_count": 212,
   "id": "0ea81bfb",
   "metadata": {},
   "outputs": [
    {
     "data": {
      "image/png": "[encoded data removed]",
      "text/plain": [
       "<Figure size 640x480 with 1 Axes>"
      ]
     },
     "metadata": {},
     "output_type": "display_data"
    }
   ],
   "source": [
    "sns.histplot(df['MasVnrArea'], bins=30, kde=True)\n",
    "plt.title(\"Distribution of MasVnrArea\")\n",
    "plt.show()"
   ]
  },
  {
   "cell_type": "code",
   "execution_count": 196,
   "id": "b5b9f1cb",
   "metadata": {},
   "outputs": [
    {
     "data": {
      "text/plain": [
       "count    1201.000000\n",
       "mean       70.049958\n",
       "std        24.284752\n",
       "min        21.000000\n",
       "25%        59.000000\n",
       "50%        69.000000\n",
       "75%        80.000000\n",
       "max       313.000000\n",
       "Name: LotFrontage, dtype: float64"
      ]
     },
     "execution_count": 196,
     "metadata": {},
     "output_type": "execute_result"
    }
   ],
   "source": [
    "df[\"LotFrontage\"].describe()"
   ]
  },
  {
   "cell_type": "code",
   "execution_count": 213,
   "id": "ffbb9cdc",
   "metadata": {},
   "outputs": [
    {
     "data": {
      "image/png": "[encoded data removed]",
      "text/plain": [
       "<Figure size 640x480 with 1 Axes>"
      ]
     },
     "metadata": {},
     "output_type": "display_data"
    }
   ],
   "source": [
    "sns.boxenplot(x=df[\"MasVnrArea\"])\n",
    "plt.title(\"Box Plot of Lot MasVnrArea\")\n",
    "plt.show()"
   ]
  },
  {
   "cell_type": "code",
   "execution_count": 210,
   "id": "dfede6b8",
   "metadata": {},
   "outputs": [
    {
     "name": "stdout",
     "output_type": "stream",
     "text": [
      "Mean : 70.04995836802665\n",
      "Mode : 60.0\n",
      "Median : 69.0\n"
     ]
    }
   ],
   "source": [
    "print(\"Mean :\", df[\"LotFrontage\"].mean())\n",
    "print(\"Mode :\", df[\"LotFrontage\"].mode()[0])\n",
    "print(\"Median :\", df[\"LotFrontage\"].median())"
   ]
  },
  {
   "cell_type": "code",
   "execution_count": 35,
   "id": "183202df",
   "metadata": {},
   "outputs": [
    {
     "data": {
      "text/plain": [
       "(1460, 79)"
      ]
     },
     "execution_count": 35,
     "metadata": {},
     "output_type": "execute_result"
    }
   ],
   "source": [
    "df.shape"
   ]
  },
  {
   "cell_type": "markdown",
   "id": "d9eec9cb",
   "metadata": {},
   "source": [
    "**Starting Encoding**"
   ]
  },
  {
   "cell_type": "markdown",
   "id": "54f79c3c",
   "metadata": {},
   "source": [
    "(i) Label Encoding"
   ]
  },
  {
   "cell_type": "code",
   "execution_count": null,
   "id": "72556adb",
   "metadata": {},
   "outputs": [
    {
     "name": "stdout",
     "output_type": "stream",
     "text": [
      "object\n"
     ]
    }
   ],
   "source": [
    "\n",
    "cat_cols = [\"Street\", \"Alley\", \"Utilities\", \"LotConfig\", \"Neighborhood\",\"RoofMatl\",\"Exterior1st\",\n",
    "            \"Exterior2nd\", \"MasVnrType\", \"Heating\",\"CentralAir\", \"Electrical\", \"GarageType\",\n",
    "            \"PavedDrive\", \"MiscFeature\"]\n",
    "target_encoder = ce.TargetEncoder()\n",
    "\n",
    "for col in cat_cols:\n",
    "    print(df[col].dtype)\n",
    "    df[col] = df[col].astype(str)\n",
    "    \n",
    "    if df[col].nunique() > 3 :\n",
    "        df[col] = target_encoder.fit_transform(df[col])\n",
    "    else:\n",
    "        le = LabelEncoder()\n",
    "        df[col] = le.fit_transform(df[col])\n",
    "    "
   ]
  },
  {
   "cell_type": "markdown",
   "id": "09ddd3cc",
   "metadata": {},
   "source": [
    "(ii) Ordinal Encoding"
   ]
  },
  {
   "cell_type": "code",
   "execution_count": null,
   "id": "1932f0b0",
   "metadata": {},
   "outputs": [],
   "source": [
    "ord_cat_cols = [\"LotShape\", \"LandContour\",  \"SaleCondition\",\"Condition1\", \"Condition2\",\n",
    "                \"LandSlope\", \"Utilities\", \"BldgType\", \"HouseStyle\",\"RoofStyle\", \"ExterQual\",\"ExterCond\",\n",
    "                \"GarageQual\", \"GarageCond\",\"BsmtQual\", \"BsmtQual\", \"BsmtExposure\", \"BsmtFinType1\", \"BsmtFinType2\",\n",
    "                \"HeatingQC\", \"KitchenQual\", \"FireplaceQu\", \"Functional\", \"GarageFinish\", \"PoolQC\", \"Fence\",\n",
    "                \"SaleType\", \"SaleCondition\"]\n",
    "ordinal_encoder = OrdinalEncoder()\n",
    "for col in ord_cat_cols:\n",
    "    df[col] = df[col].astype(str)\n",
    "    df[col] = ordinal_encoder.fit_transform(df[col])"
   ]
  },
  {
   "cell_type": "markdown",
   "id": "84156623",
   "metadata": {},
   "source": [
    "(iii) One Hot Encoder"
   ]
  },
  {
   "cell_type": "code",
   "execution_count": 95,
   "id": "efd8a836",
   "metadata": {},
   "outputs": [
    {
     "name": "stdout",
     "output_type": "stream",
     "text": [
      "Foundation\n"
     ]
    }
   ],
   "source": [
    "hot_cols = [\"Foundation\"]\n",
    "# hot_cols = [\"Foundation\", \"MSZoning\"]\n",
    "one_hot_encoder = OneHotEncoder(sparse_output=False, handle_unknown='ignore')\n",
    "for col in hot_cols:\n",
    "    print(col)\n",
    "    df[col] = df[col].astype(str)\n",
    "    df[col] = df[col].map({'PConc':1, 'CBlock':2, 'BrkTil':3, 'Wood':4, 'Slab':5, 'Stone':7})\n",
    "    \n",
    "    # df[col] = one_hot_encoder.fit_transform(df[col])\n",
    "    # df[col] = one_hot_encoder.fit_transform(df[col])"
   ]
  },
  {
   "cell_type": "code",
   "execution_count": 93,
   "id": "31ad9c5b",
   "metadata": {},
   "outputs": [
    {
     "data": {
      "text/plain": [
       "array(['PConc', 'CBlock', 'BrkTil', 'Wood', 'Slab', 'Stone'], dtype=object)"
      ]
     },
     "execution_count": 93,
     "metadata": {},
     "output_type": "execute_result"
    }
   ],
   "source": [
    "df[\"Foundation\"].unique()\n",
    "# df[[\"Foundation\"]].unique()"
   ]
  },
  {
   "cell_type": "code",
   "execution_count": 96,
   "id": "ebd70f53",
   "metadata": {},
   "outputs": [
    {
     "data": {
      "text/plain": [
       "array([1, 2, 3, 4, 5, 7])"
      ]
     },
     "execution_count": 96,
     "metadata": {},
     "output_type": "execute_result"
    }
   ],
   "source": [
    "df[\"Foundation\"].unique()\n"
   ]
  },
  {
   "cell_type": "code",
   "execution_count": 48,
   "id": "2548f26d",
   "metadata": {},
   "outputs": [],
   "source": [
    "# object_cols = df.select_dtypes(include='object').columns\n",
    "object_cols = df.select_dtypes(include='object')"
   ]
  },
  {
   "cell_type": "code",
   "execution_count": null,
   "id": "051a5261",
   "metadata": {},
   "outputs": [],
   "source": [
    "\n",
    "cols = []\n",
    "df_summary =pd.DataFrame({\n",
    "    'Column':cols,\n",
    "    'Unique Count': [df[col].nunique() for col in cols],\n",
    "    'Unique Values' : [df[col].unique() if df[col].nunique() <= 6 else 'more than 5 values' for col in cols]\n",
    "    # columns\n",
    "    # columns=cols,\n",
    "    \n",
    "})"
   ]
  },
  {
   "cell_type": "code",
   "execution_count": 71,
   "id": "a522b3d4",
   "metadata": {},
   "outputs": [
    {
     "data": {
      "text/html": [
       "<div>\n",
       "<style scoped>\n",
       "    .dataframe tbody tr th:only-of-type {\n",
       "        vertical-align: middle;\n",
       "    }\n",
       "\n",
       "    .dataframe tbody tr th {\n",
       "        vertical-align: top;\n",
       "    }\n",
       "\n",
       "    .dataframe thead th {\n",
       "        text-align: right;\n",
       "    }\n",
       "</style>\n",
       "<table border=\"1\" class=\"dataframe\">\n",
       "  <thead>\n",
       "    <tr style=\"text-align: right;\">\n",
       "      <th></th>\n",
       "      <th>Column</th>\n",
       "      <th>Unique Count</th>\n",
       "      <th>Unique Values</th>\n",
       "    </tr>\n",
       "  </thead>\n",
       "  <tbody>\n",
       "    <tr>\n",
       "      <th>0</th>\n",
       "      <td>MSZoning</td>\n",
       "      <td>5</td>\n",
       "      <td>[RL, RM, C (all), FV, RH]</td>\n",
       "    </tr>\n",
       "    <tr>\n",
       "      <th>1</th>\n",
       "      <td>Street</td>\n",
       "      <td>2</td>\n",
       "      <td>[Pave, Grvl]</td>\n",
       "    </tr>\n",
       "    <tr>\n",
       "      <th>2</th>\n",
       "      <td>Alley</td>\n",
       "      <td>2</td>\n",
       "      <td>[Grvl, Pave]</td>\n",
       "    </tr>\n",
       "    <tr>\n",
       "      <th>3</th>\n",
       "      <td>LotShape</td>\n",
       "      <td>4</td>\n",
       "      <td>[Reg, IR1, IR2, IR3]</td>\n",
       "    </tr>\n",
       "    <tr>\n",
       "      <th>4</th>\n",
       "      <td>LandContour</td>\n",
       "      <td>4</td>\n",
       "      <td>[Lvl, Bnk, Low, HLS]</td>\n",
       "    </tr>\n",
       "    <tr>\n",
       "      <th>5</th>\n",
       "      <td>Utilities</td>\n",
       "      <td>2</td>\n",
       "      <td>[AllPub, NoSeWa]</td>\n",
       "    </tr>\n",
       "    <tr>\n",
       "      <th>6</th>\n",
       "      <td>LotConfig</td>\n",
       "      <td>5</td>\n",
       "      <td>[Inside, FR2, Corner, CulDSac, FR3]</td>\n",
       "    </tr>\n",
       "    <tr>\n",
       "      <th>7</th>\n",
       "      <td>LandSlope</td>\n",
       "      <td>3</td>\n",
       "      <td>[Gtl, Mod, Sev]</td>\n",
       "    </tr>\n",
       "    <tr>\n",
       "      <th>8</th>\n",
       "      <td>Neighborhood</td>\n",
       "      <td>25</td>\n",
       "      <td>more than 5 values</td>\n",
       "    </tr>\n",
       "    <tr>\n",
       "      <th>9</th>\n",
       "      <td>Condition1</td>\n",
       "      <td>9</td>\n",
       "      <td>more than 5 values</td>\n",
       "    </tr>\n",
       "    <tr>\n",
       "      <th>10</th>\n",
       "      <td>Condition2</td>\n",
       "      <td>8</td>\n",
       "      <td>more than 5 values</td>\n",
       "    </tr>\n",
       "    <tr>\n",
       "      <th>11</th>\n",
       "      <td>BldgType</td>\n",
       "      <td>5</td>\n",
       "      <td>[1Fam, 2fmCon, Duplex, TwnhsE, Twnhs]</td>\n",
       "    </tr>\n",
       "    <tr>\n",
       "      <th>12</th>\n",
       "      <td>HouseStyle</td>\n",
       "      <td>8</td>\n",
       "      <td>more than 5 values</td>\n",
       "    </tr>\n",
       "    <tr>\n",
       "      <th>13</th>\n",
       "      <td>RoofStyle</td>\n",
       "      <td>6</td>\n",
       "      <td>[Gable, Hip, Gambrel, Mansard, Flat, Shed]</td>\n",
       "    </tr>\n",
       "    <tr>\n",
       "      <th>14</th>\n",
       "      <td>RoofMatl</td>\n",
       "      <td>8</td>\n",
       "      <td>more than 5 values</td>\n",
       "    </tr>\n",
       "    <tr>\n",
       "      <th>15</th>\n",
       "      <td>Exterior1st</td>\n",
       "      <td>15</td>\n",
       "      <td>more than 5 values</td>\n",
       "    </tr>\n",
       "    <tr>\n",
       "      <th>16</th>\n",
       "      <td>Exterior2nd</td>\n",
       "      <td>16</td>\n",
       "      <td>more than 5 values</td>\n",
       "    </tr>\n",
       "    <tr>\n",
       "      <th>17</th>\n",
       "      <td>MasVnrType</td>\n",
       "      <td>3</td>\n",
       "      <td>[BrkFace, Stone, BrkCmn]</td>\n",
       "    </tr>\n",
       "    <tr>\n",
       "      <th>18</th>\n",
       "      <td>ExterQual</td>\n",
       "      <td>4</td>\n",
       "      <td>[Gd, TA, Ex, Fa]</td>\n",
       "    </tr>\n",
       "    <tr>\n",
       "      <th>19</th>\n",
       "      <td>ExterCond</td>\n",
       "      <td>5</td>\n",
       "      <td>[TA, Gd, Fa, Po, Ex]</td>\n",
       "    </tr>\n",
       "    <tr>\n",
       "      <th>20</th>\n",
       "      <td>Foundation</td>\n",
       "      <td>6</td>\n",
       "      <td>[PConc, CBlock, BrkTil, Wood, Slab, Stone]</td>\n",
       "    </tr>\n",
       "    <tr>\n",
       "      <th>21</th>\n",
       "      <td>BsmtQual</td>\n",
       "      <td>4</td>\n",
       "      <td>[Gd, TA, Ex, Fa]</td>\n",
       "    </tr>\n",
       "    <tr>\n",
       "      <th>22</th>\n",
       "      <td>BsmtCond</td>\n",
       "      <td>4</td>\n",
       "      <td>[TA, Gd, Fa, Po]</td>\n",
       "    </tr>\n",
       "    <tr>\n",
       "      <th>23</th>\n",
       "      <td>BsmtExposure</td>\n",
       "      <td>4</td>\n",
       "      <td>[No, Gd, Mn, Av]</td>\n",
       "    </tr>\n",
       "    <tr>\n",
       "      <th>24</th>\n",
       "      <td>BsmtFinType1</td>\n",
       "      <td>6</td>\n",
       "      <td>[GLQ, ALQ, Unf, Rec, BLQ, LwQ]</td>\n",
       "    </tr>\n",
       "    <tr>\n",
       "      <th>25</th>\n",
       "      <td>BsmtFinType2</td>\n",
       "      <td>6</td>\n",
       "      <td>[Unf, BLQ, ALQ, Rec, LwQ, GLQ]</td>\n",
       "    </tr>\n",
       "    <tr>\n",
       "      <th>26</th>\n",
       "      <td>Heating</td>\n",
       "      <td>6</td>\n",
       "      <td>[GasA, GasW, Grav, Wall, OthW, Floor]</td>\n",
       "    </tr>\n",
       "    <tr>\n",
       "      <th>27</th>\n",
       "      <td>HeatingQC</td>\n",
       "      <td>5</td>\n",
       "      <td>[Ex, Gd, TA, Fa, Po]</td>\n",
       "    </tr>\n",
       "    <tr>\n",
       "      <th>28</th>\n",
       "      <td>CentralAir</td>\n",
       "      <td>2</td>\n",
       "      <td>[Y, N]</td>\n",
       "    </tr>\n",
       "    <tr>\n",
       "      <th>29</th>\n",
       "      <td>Electrical</td>\n",
       "      <td>5</td>\n",
       "      <td>[SBrkr, FuseF, FuseA, FuseP, Mix]</td>\n",
       "    </tr>\n",
       "    <tr>\n",
       "      <th>30</th>\n",
       "      <td>KitchenQual</td>\n",
       "      <td>4</td>\n",
       "      <td>[Gd, TA, Ex, Fa]</td>\n",
       "    </tr>\n",
       "    <tr>\n",
       "      <th>31</th>\n",
       "      <td>Functional</td>\n",
       "      <td>7</td>\n",
       "      <td>more than 5 values</td>\n",
       "    </tr>\n",
       "    <tr>\n",
       "      <th>32</th>\n",
       "      <td>FireplaceQu</td>\n",
       "      <td>5</td>\n",
       "      <td>[Gd, TA, Fa, Ex, Po]</td>\n",
       "    </tr>\n",
       "    <tr>\n",
       "      <th>33</th>\n",
       "      <td>GarageType</td>\n",
       "      <td>6</td>\n",
       "      <td>[Attchd, Detchd, BuiltIn, CarPort, Basment, 2T...</td>\n",
       "    </tr>\n",
       "    <tr>\n",
       "      <th>34</th>\n",
       "      <td>GarageFinish</td>\n",
       "      <td>3</td>\n",
       "      <td>[RFn, Unf, Fin]</td>\n",
       "    </tr>\n",
       "    <tr>\n",
       "      <th>35</th>\n",
       "      <td>GarageQual</td>\n",
       "      <td>5</td>\n",
       "      <td>[TA, Fa, Gd, Ex, Po]</td>\n",
       "    </tr>\n",
       "    <tr>\n",
       "      <th>36</th>\n",
       "      <td>GarageCond</td>\n",
       "      <td>5</td>\n",
       "      <td>[TA, Fa, Gd, Po, Ex]</td>\n",
       "    </tr>\n",
       "    <tr>\n",
       "      <th>37</th>\n",
       "      <td>PavedDrive</td>\n",
       "      <td>3</td>\n",
       "      <td>[Y, N, P]</td>\n",
       "    </tr>\n",
       "    <tr>\n",
       "      <th>38</th>\n",
       "      <td>PoolQC</td>\n",
       "      <td>3</td>\n",
       "      <td>[Gd, Ex, Fa]</td>\n",
       "    </tr>\n",
       "    <tr>\n",
       "      <th>39</th>\n",
       "      <td>Fence</td>\n",
       "      <td>4</td>\n",
       "      <td>[MnPrv, GdWo, GdPrv, MnWw]</td>\n",
       "    </tr>\n",
       "    <tr>\n",
       "      <th>40</th>\n",
       "      <td>MiscFeature</td>\n",
       "      <td>4</td>\n",
       "      <td>[Shed, Gar2, Othr, TenC]</td>\n",
       "    </tr>\n",
       "    <tr>\n",
       "      <th>41</th>\n",
       "      <td>SaleType</td>\n",
       "      <td>9</td>\n",
       "      <td>more than 5 values</td>\n",
       "    </tr>\n",
       "    <tr>\n",
       "      <th>42</th>\n",
       "      <td>SaleCondition</td>\n",
       "      <td>6</td>\n",
       "      <td>[Normal, Abnorml, Partial, AdjLand, Alloca, Fa...</td>\n",
       "    </tr>\n",
       "  </tbody>\n",
       "</table>\n",
       "</div>"
      ],
      "text/plain": [
       "           Column  Unique Count  \\\n",
       "0        MSZoning             5   \n",
       "1          Street             2   \n",
       "2           Alley             2   \n",
       "3        LotShape             4   \n",
       "4     LandContour             4   \n",
       "5       Utilities             2   \n",
       "6       LotConfig             5   \n",
       "7       LandSlope             3   \n",
       "8    Neighborhood            25   \n",
       "9      Condition1             9   \n",
       "10     Condition2             8   \n",
       "11       BldgType             5   \n",
       "12     HouseStyle             8   \n",
       "13      RoofStyle             6   \n",
       "14       RoofMatl             8   \n",
       "15    Exterior1st            15   \n",
       "16    Exterior2nd            16   \n",
       "17     MasVnrType             3   \n",
       "18      ExterQual             4   \n",
       "19      ExterCond             5   \n",
       "20     Foundation             6   \n",
       "21       BsmtQual             4   \n",
       "22       BsmtCond             4   \n",
       "23   BsmtExposure             4   \n",
       "24   BsmtFinType1             6   \n",
       "25   BsmtFinType2             6   \n",
       "26        Heating             6   \n",
       "27      HeatingQC             5   \n",
       "28     CentralAir             2   \n",
       "29     Electrical             5   \n",
       "30    KitchenQual             4   \n",
       "31     Functional             7   \n",
       "32    FireplaceQu             5   \n",
       "33     GarageType             6   \n",
       "34   GarageFinish             3   \n",
       "35     GarageQual             5   \n",
       "36     GarageCond             5   \n",
       "37     PavedDrive             3   \n",
       "38         PoolQC             3   \n",
       "39          Fence             4   \n",
       "40    MiscFeature             4   \n",
       "41       SaleType             9   \n",
       "42  SaleCondition             6   \n",
       "\n",
       "                                        Unique Values  \n",
       "0                           [RL, RM, C (all), FV, RH]  \n",
       "1                                        [Pave, Grvl]  \n",
       "2                                        [Grvl, Pave]  \n",
       "3                                [Reg, IR1, IR2, IR3]  \n",
       "4                                [Lvl, Bnk, Low, HLS]  \n",
       "5                                    [AllPub, NoSeWa]  \n",
       "6                 [Inside, FR2, Corner, CulDSac, FR3]  \n",
       "7                                     [Gtl, Mod, Sev]  \n",
       "8                                  more than 5 values  \n",
       "9                                  more than 5 values  \n",
       "10                                 more than 5 values  \n",
       "11              [1Fam, 2fmCon, Duplex, TwnhsE, Twnhs]  \n",
       "12                                 more than 5 values  \n",
       "13         [Gable, Hip, Gambrel, Mansard, Flat, Shed]  \n",
       "14                                 more than 5 values  \n",
       "15                                 more than 5 values  \n",
       "16                                 more than 5 values  \n",
       "17                           [BrkFace, Stone, BrkCmn]  \n",
       "18                                   [Gd, TA, Ex, Fa]  \n",
       "19                               [TA, Gd, Fa, Po, Ex]  \n",
       "20         [PConc, CBlock, BrkTil, Wood, Slab, Stone]  \n",
       "21                                   [Gd, TA, Ex, Fa]  \n",
       "22                                   [TA, Gd, Fa, Po]  \n",
       "23                                   [No, Gd, Mn, Av]  \n",
       "24                     [GLQ, ALQ, Unf, Rec, BLQ, LwQ]  \n",
       "25                     [Unf, BLQ, ALQ, Rec, LwQ, GLQ]  \n",
       "26              [GasA, GasW, Grav, Wall, OthW, Floor]  \n",
       "27                               [Ex, Gd, TA, Fa, Po]  \n",
       "28                                             [Y, N]  \n",
       "29                  [SBrkr, FuseF, FuseA, FuseP, Mix]  \n",
       "30                                   [Gd, TA, Ex, Fa]  \n",
       "31                                 more than 5 values  \n",
       "32                               [Gd, TA, Fa, Ex, Po]  \n",
       "33  [Attchd, Detchd, BuiltIn, CarPort, Basment, 2T...  \n",
       "34                                    [RFn, Unf, Fin]  \n",
       "35                               [TA, Fa, Gd, Ex, Po]  \n",
       "36                               [TA, Fa, Gd, Po, Ex]  \n",
       "37                                          [Y, N, P]  \n",
       "38                                       [Gd, Ex, Fa]  \n",
       "39                         [MnPrv, GdWo, GdPrv, MnWw]  \n",
       "40                           [Shed, Gar2, Othr, TenC]  \n",
       "41                                 more than 5 values  \n",
       "42  [Normal, Abnorml, Partial, AdjLand, Alloca, Fa...  "
      ]
     },
     "execution_count": 71,
     "metadata": {},
     "output_type": "execute_result"
    }
   ],
   "source": [
    "df_summary"
   ]
  },
  {
   "cell_type": "code",
   "execution_count": null,
   "id": "9f7ef2c1",
   "metadata": {},
   "outputs": [],
   "source": [
    "# map_categories = [\"\"]\n",
    "# for col in map_categories:\n",
    "#     df[col] = df[col].map({\n",
    "#         'AllPub' :1,\n",
    "#         'NoSeWa' :0\n",
    "#     })"
   ]
  },
  {
   "cell_type": "code",
   "execution_count": 57,
   "id": "ab8945e9",
   "metadata": {},
   "outputs": [
    {
     "name": "stdout",
     "output_type": "stream",
     "text": [
      "43\n"
     ]
    }
   ],
   "source": [
    "print(len(cols))"
   ]
  },
  {
   "cell_type": "markdown",
   "id": "05805ac5",
   "metadata": {},
   "source": [
    "Histogram of Sale Price"
   ]
  },
  {
   "cell_type": "code",
   "execution_count": 81,
   "id": "86ad4cf5",
   "metadata": {},
   "outputs": [
    {
     "data": {
      "text/html": [
       "<div>\n",
       "<style scoped>\n",
       "    .dataframe tbody tr th:only-of-type {\n",
       "        vertical-align: middle;\n",
       "    }\n",
       "\n",
       "    .dataframe tbody tr th {\n",
       "        vertical-align: top;\n",
       "    }\n",
       "\n",
       "    .dataframe thead th {\n",
       "        text-align: right;\n",
       "    }\n",
       "</style>\n",
       "<table border=\"1\" class=\"dataframe\">\n",
       "  <thead>\n",
       "    <tr style=\"text-align: right;\">\n",
       "      <th></th>\n",
       "      <th>MSSubClass</th>\n",
       "      <th>LotFrontage</th>\n",
       "      <th>LotArea</th>\n",
       "      <th>OverallQual</th>\n",
       "      <th>OverallCond</th>\n",
       "      <th>YearBuilt</th>\n",
       "      <th>YearRemodAdd</th>\n",
       "      <th>MasVnrArea</th>\n",
       "      <th>BsmtFinSF1</th>\n",
       "      <th>BsmtFinSF2</th>\n",
       "      <th>...</th>\n",
       "      <th>GarageArea</th>\n",
       "      <th>WoodDeckSF</th>\n",
       "      <th>OpenPorchSF</th>\n",
       "      <th>EnclosedPorch</th>\n",
       "      <th>3SsnPorch</th>\n",
       "      <th>ScreenPorch</th>\n",
       "      <th>PoolArea</th>\n",
       "      <th>MiscVal</th>\n",
       "      <th>MoSold</th>\n",
       "      <th>YrSold</th>\n",
       "    </tr>\n",
       "  </thead>\n",
       "  <tbody>\n",
       "    <tr>\n",
       "      <th>count</th>\n",
       "      <td>1460.000000</td>\n",
       "      <td>1460.000000</td>\n",
       "      <td>1460.000000</td>\n",
       "      <td>1460.000000</td>\n",
       "      <td>1460.000000</td>\n",
       "      <td>1460.000000</td>\n",
       "      <td>1460.000000</td>\n",
       "      <td>1460.000000</td>\n",
       "      <td>1460.000000</td>\n",
       "      <td>1460.000000</td>\n",
       "      <td>...</td>\n",
       "      <td>1460.000000</td>\n",
       "      <td>1460.000000</td>\n",
       "      <td>1460.000000</td>\n",
       "      <td>1460.000000</td>\n",
       "      <td>1460.000000</td>\n",
       "      <td>1460.000000</td>\n",
       "      <td>1460.000000</td>\n",
       "      <td>1460.000000</td>\n",
       "      <td>1460.000000</td>\n",
       "      <td>1460.000000</td>\n",
       "    </tr>\n",
       "    <tr>\n",
       "      <th>mean</th>\n",
       "      <td>56.897260</td>\n",
       "      <td>69.863699</td>\n",
       "      <td>10516.828082</td>\n",
       "      <td>6.099315</td>\n",
       "      <td>5.575342</td>\n",
       "      <td>1971.267808</td>\n",
       "      <td>1984.865753</td>\n",
       "      <td>103.117123</td>\n",
       "      <td>443.639726</td>\n",
       "      <td>46.549315</td>\n",
       "      <td>...</td>\n",
       "      <td>472.980137</td>\n",
       "      <td>94.244521</td>\n",
       "      <td>46.660274</td>\n",
       "      <td>21.954110</td>\n",
       "      <td>3.409589</td>\n",
       "      <td>15.060959</td>\n",
       "      <td>2.758904</td>\n",
       "      <td>43.489041</td>\n",
       "      <td>6.321918</td>\n",
       "      <td>2007.815753</td>\n",
       "    </tr>\n",
       "    <tr>\n",
       "      <th>std</th>\n",
       "      <td>42.300571</td>\n",
       "      <td>22.027677</td>\n",
       "      <td>9981.264932</td>\n",
       "      <td>1.382997</td>\n",
       "      <td>1.112799</td>\n",
       "      <td>30.202904</td>\n",
       "      <td>20.645407</td>\n",
       "      <td>180.731373</td>\n",
       "      <td>456.098091</td>\n",
       "      <td>161.319273</td>\n",
       "      <td>...</td>\n",
       "      <td>213.804841</td>\n",
       "      <td>125.338794</td>\n",
       "      <td>66.256028</td>\n",
       "      <td>61.119149</td>\n",
       "      <td>29.317331</td>\n",
       "      <td>55.757415</td>\n",
       "      <td>40.177307</td>\n",
       "      <td>496.123024</td>\n",
       "      <td>2.703626</td>\n",
       "      <td>1.328095</td>\n",
       "    </tr>\n",
       "    <tr>\n",
       "      <th>min</th>\n",
       "      <td>20.000000</td>\n",
       "      <td>21.000000</td>\n",
       "      <td>1300.000000</td>\n",
       "      <td>1.000000</td>\n",
       "      <td>1.000000</td>\n",
       "      <td>1872.000000</td>\n",
       "      <td>1950.000000</td>\n",
       "      <td>0.000000</td>\n",
       "      <td>0.000000</td>\n",
       "      <td>0.000000</td>\n",
       "      <td>...</td>\n",
       "      <td>0.000000</td>\n",
       "      <td>0.000000</td>\n",
       "      <td>0.000000</td>\n",
       "      <td>0.000000</td>\n",
       "      <td>0.000000</td>\n",
       "      <td>0.000000</td>\n",
       "      <td>0.000000</td>\n",
       "      <td>0.000000</td>\n",
       "      <td>1.000000</td>\n",
       "      <td>2006.000000</td>\n",
       "    </tr>\n",
       "    <tr>\n",
       "      <th>25%</th>\n",
       "      <td>20.000000</td>\n",
       "      <td>60.000000</td>\n",
       "      <td>7553.500000</td>\n",
       "      <td>5.000000</td>\n",
       "      <td>5.000000</td>\n",
       "      <td>1954.000000</td>\n",
       "      <td>1967.000000</td>\n",
       "      <td>0.000000</td>\n",
       "      <td>0.000000</td>\n",
       "      <td>0.000000</td>\n",
       "      <td>...</td>\n",
       "      <td>334.500000</td>\n",
       "      <td>0.000000</td>\n",
       "      <td>0.000000</td>\n",
       "      <td>0.000000</td>\n",
       "      <td>0.000000</td>\n",
       "      <td>0.000000</td>\n",
       "      <td>0.000000</td>\n",
       "      <td>0.000000</td>\n",
       "      <td>5.000000</td>\n",
       "      <td>2007.000000</td>\n",
       "    </tr>\n",
       "    <tr>\n",
       "      <th>50%</th>\n",
       "      <td>50.000000</td>\n",
       "      <td>69.000000</td>\n",
       "      <td>9478.500000</td>\n",
       "      <td>6.000000</td>\n",
       "      <td>5.000000</td>\n",
       "      <td>1973.000000</td>\n",
       "      <td>1994.000000</td>\n",
       "      <td>0.000000</td>\n",
       "      <td>383.500000</td>\n",
       "      <td>0.000000</td>\n",
       "      <td>...</td>\n",
       "      <td>480.000000</td>\n",
       "      <td>0.000000</td>\n",
       "      <td>25.000000</td>\n",
       "      <td>0.000000</td>\n",
       "      <td>0.000000</td>\n",
       "      <td>0.000000</td>\n",
       "      <td>0.000000</td>\n",
       "      <td>0.000000</td>\n",
       "      <td>6.000000</td>\n",
       "      <td>2008.000000</td>\n",
       "    </tr>\n",
       "    <tr>\n",
       "      <th>75%</th>\n",
       "      <td>70.000000</td>\n",
       "      <td>79.000000</td>\n",
       "      <td>11601.500000</td>\n",
       "      <td>7.000000</td>\n",
       "      <td>6.000000</td>\n",
       "      <td>2000.000000</td>\n",
       "      <td>2004.000000</td>\n",
       "      <td>164.250000</td>\n",
       "      <td>712.250000</td>\n",
       "      <td>0.000000</td>\n",
       "      <td>...</td>\n",
       "      <td>576.000000</td>\n",
       "      <td>168.000000</td>\n",
       "      <td>68.000000</td>\n",
       "      <td>0.000000</td>\n",
       "      <td>0.000000</td>\n",
       "      <td>0.000000</td>\n",
       "      <td>0.000000</td>\n",
       "      <td>0.000000</td>\n",
       "      <td>8.000000</td>\n",
       "      <td>2009.000000</td>\n",
       "    </tr>\n",
       "    <tr>\n",
       "      <th>max</th>\n",
       "      <td>190.000000</td>\n",
       "      <td>313.000000</td>\n",
       "      <td>215245.000000</td>\n",
       "      <td>10.000000</td>\n",
       "      <td>9.000000</td>\n",
       "      <td>2010.000000</td>\n",
       "      <td>2010.000000</td>\n",
       "      <td>1600.000000</td>\n",
       "      <td>5644.000000</td>\n",
       "      <td>1474.000000</td>\n",
       "      <td>...</td>\n",
       "      <td>1418.000000</td>\n",
       "      <td>857.000000</td>\n",
       "      <td>547.000000</td>\n",
       "      <td>552.000000</td>\n",
       "      <td>508.000000</td>\n",
       "      <td>480.000000</td>\n",
       "      <td>738.000000</td>\n",
       "      <td>15500.000000</td>\n",
       "      <td>12.000000</td>\n",
       "      <td>2010.000000</td>\n",
       "    </tr>\n",
       "  </tbody>\n",
       "</table>\n",
       "<p>8 rows × 36 columns</p>\n",
       "</div>"
      ],
      "text/plain": [
       "        MSSubClass  LotFrontage        LotArea  OverallQual  OverallCond  \\\n",
       "count  1460.000000  1460.000000    1460.000000  1460.000000  1460.000000   \n",
       "mean     56.897260    69.863699   10516.828082     6.099315     5.575342   \n",
       "std      42.300571    22.027677    9981.264932     1.382997     1.112799   \n",
       "min      20.000000    21.000000    1300.000000     1.000000     1.000000   \n",
       "25%      20.000000    60.000000    7553.500000     5.000000     5.000000   \n",
       "50%      50.000000    69.000000    9478.500000     6.000000     5.000000   \n",
       "75%      70.000000    79.000000   11601.500000     7.000000     6.000000   \n",
       "max     190.000000   313.000000  215245.000000    10.000000     9.000000   \n",
       "\n",
       "         YearBuilt  YearRemodAdd   MasVnrArea   BsmtFinSF1   BsmtFinSF2  ...  \\\n",
       "count  1460.000000   1460.000000  1460.000000  1460.000000  1460.000000  ...   \n",
       "mean   1971.267808   1984.865753   103.117123   443.639726    46.549315  ...   \n",
       "std      30.202904     20.645407   180.731373   456.098091   161.319273  ...   \n",
       "min    1872.000000   1950.000000     0.000000     0.000000     0.000000  ...   \n",
       "25%    1954.000000   1967.000000     0.000000     0.000000     0.000000  ...   \n",
       "50%    1973.000000   1994.000000     0.000000   383.500000     0.000000  ...   \n",
       "75%    2000.000000   2004.000000   164.250000   712.250000     0.000000  ...   \n",
       "max    2010.000000   2010.000000  1600.000000  5644.000000  1474.000000  ...   \n",
       "\n",
       "        GarageArea   WoodDeckSF  OpenPorchSF  EnclosedPorch    3SsnPorch  \\\n",
       "count  1460.000000  1460.000000  1460.000000    1460.000000  1460.000000   \n",
       "mean    472.980137    94.244521    46.660274      21.954110     3.409589   \n",
       "std     213.804841   125.338794    66.256028      61.119149    29.317331   \n",
       "min       0.000000     0.000000     0.000000       0.000000     0.000000   \n",
       "25%     334.500000     0.000000     0.000000       0.000000     0.000000   \n",
       "50%     480.000000     0.000000    25.000000       0.000000     0.000000   \n",
       "75%     576.000000   168.000000    68.000000       0.000000     0.000000   \n",
       "max    1418.000000   857.000000   547.000000     552.000000   508.000000   \n",
       "\n",
       "       ScreenPorch     PoolArea       MiscVal       MoSold       YrSold  \n",
       "count  1460.000000  1460.000000   1460.000000  1460.000000  1460.000000  \n",
       "mean     15.060959     2.758904     43.489041     6.321918  2007.815753  \n",
       "std      55.757415    40.177307    496.123024     2.703626     1.328095  \n",
       "min       0.000000     0.000000      0.000000     1.000000  2006.000000  \n",
       "25%       0.000000     0.000000      0.000000     5.000000  2007.000000  \n",
       "50%       0.000000     0.000000      0.000000     6.000000  2008.000000  \n",
       "75%       0.000000     0.000000      0.000000     8.000000  2009.000000  \n",
       "max     480.000000   738.000000  15500.000000    12.000000  2010.000000  \n",
       "\n",
       "[8 rows x 36 columns]"
      ]
     },
     "execution_count": 81,
     "metadata": {},
     "output_type": "execute_result"
    }
   ],
   "source": [
    "df.describe()"
   ]
  },
  {
   "cell_type": "markdown",
   "id": "1c723ee7",
   "metadata": {},
   "source": [
    "**(2) xgboost**"
   ]
  },
  {
   "cell_type": "markdown",
   "id": "9ea74def",
   "metadata": {},
   "source": [
    "**(3) lgboost**"
   ]
  },
  {
   "cell_type": "markdown",
   "id": "f8cfdcc2",
   "metadata": {},
   "source": []
  }
 ],
 "metadata": {
  "kernelspec": {
   "display_name": ".venv",
   "language": "python",
   "name": "python3"
  },
  "language_info": {
   "codemirror_mode": {
    "name": "ipython",
    "version": 3
   },
   "file_extension": ".py",
   "mimetype": "text/x-python",
   "name": "python",
   "nbconvert_exporter": "python",
   "pygments_lexer": "ipython3",
   "version": "3.13.0"
  }
 },
 "nbformat": 4,
 "nbformat_minor": 5
}
